{
  "nbformat": 4,
  "nbformat_minor": 0,
  "metadata": {
    "colab": {
      "name": "Untitled0.ipynb",
      "version": "0.3.2",
      "provenance": [],
      "include_colab_link": true
    },
    "kernelspec": {
      "name": "python3",
      "display_name": "Python 3"
    }
  },
  "cells": [
    {
      "cell_type": "markdown",
      "metadata": {
        "id": "view-in-github",
        "colab_type": "text"
      },
      "source": [
        "<a href=\"https://colab.research.google.com/github/balsrini/Hackathon2019/blob/master/First.ipynb\" target=\"_parent\"><img src=\"https://colab.research.google.com/assets/colab-badge.svg\" alt=\"Open In Colab\"/></a>"
      ]
    },
    {
      "cell_type": "code",
      "metadata": {
        "id": "8dZ3-uXvmqip",
        "colab_type": "code",
        "colab": {
          "base_uri": "https://localhost:8080/",
          "height": 34
        },
        "outputId": "ee24fa2e-820a-405e-abb1-7e53accdc7b9"
      },
      "source": [
        "from os import listdir\n",
        "from numpy import array\n",
        "from keras.preprocessing.text import Tokenizer, one_hot\n",
        "from keras.preprocessing.sequence import pad_sequences\n",
        "from keras.models import Model\n",
        "from keras.utils import to_categorical\n",
        "from keras.layers import Embedding, TimeDistributed, RepeatVector, LSTM, concatenate , Input, Reshape, Dense, Flatten\n",
        "from keras.preprocessing.image import array_to_img, img_to_array, load_img\n",
        "from keras.applications.inception_resnet_v2 import InceptionResNetV2, preprocess_input\n",
        "import numpy as np\n"
      ],
      "execution_count": 1,
      "outputs": [
        {
          "output_type": "stream",
          "text": [
            "Using TensorFlow backend.\n"
          ],
          "name": "stderr"
        }
      ]
    },
    {
      "cell_type": "code",
      "metadata": {
        "id": "JNQv9vaawiN_",
        "colab_type": "code",
        "colab": {
          "base_uri": "https://localhost:8080/",
          "height": 34
        },
        "outputId": "c5f47661-27dc-4760-8cd0-dc592669353b"
      },
      "source": [
        "from google.colab import drive\n",
        "drive.mount('/content/gdrive')\n",
        "#all_filenames = listdir('gdrive/hackathon2019/images/')"
      ],
      "execution_count": 11,
      "outputs": [
        {
          "output_type": "stream",
          "text": [
            "Drive already mounted at /content/gdrive; to attempt to forcibly remount, call drive.mount(\"/content/gdrive\", force_remount=True).\n"
          ],
          "name": "stdout"
        }
      ]
    },
    {
      "cell_type": "code",
      "metadata": {
        "id": "Y8Xc3cQFx8EN",
        "colab_type": "code",
        "colab": {
          "base_uri": "https://localhost:8080/",
          "height": 34
        },
        "outputId": "369a4690-4b09-4b7a-ea63-472a33bd7c3f"
      },
      "source": [
        ""
      ],
      "execution_count": 12,
      "outputs": [
        {
          "output_type": "stream",
          "text": [
            "['86.jpg', '87.jpg', '88.jpg', '89.jpg', '90.jpg']\n"
          ],
          "name": "stdout"
        }
      ]
    },
    {
      "cell_type": "code",
      "metadata": {
        "id": "P8kDTp-3msGt",
        "colab_type": "code",
        "colab": {
          "base_uri": "https://localhost:8080/",
          "height": 377
        },
        "outputId": "a7ebba67-a928-4767-ec96-e6993419dd47"
      },
      "source": [
        "\n",
        "images = []\n",
        "all_filenames = listdir('/content/gdrive/My Drive/hackathon2019/images')\n",
        "print(all_filenames)\n",
        "all_filenames.sort()\n",
        "for filename in all_filenames:      \n",
        "    images.append(img_to_array(load_img('/content/gdrive/My Drive/hackathon2019/images/' + filename, target_size=(299, 299))))\n",
        "images = np.array(images, dtype=float)\n",
        "images = preprocess_input(images)\n",
        "\n",
        "# Run the images through inception-resnet and extract the features without the classification layer\n",
        "IR2 = InceptionResNetV2(weights='imagenet', include_top=False)\n",
        "features = IR2.predict(images)\n"
      ],
      "execution_count": 14,
      "outputs": [
        {
          "output_type": "stream",
          "text": [
            "['86.jpg', '87.jpg', '88.jpg', '89.jpg', '90.jpg']\n"
          ],
          "name": "stdout"
        },
        {
          "output_type": "stream",
          "text": [
            "WARNING: Logging before flag parsing goes to stderr.\n",
            "W0724 12:11:43.215019 140486089746304 deprecation_wrapper.py:119] From /usr/local/lib/python3.6/dist-packages/keras/backend/tensorflow_backend.py:74: The name tf.get_default_graph is deprecated. Please use tf.compat.v1.get_default_graph instead.\n",
            "\n",
            "W0724 12:11:43.257253 140486089746304 deprecation_wrapper.py:119] From /usr/local/lib/python3.6/dist-packages/keras/backend/tensorflow_backend.py:517: The name tf.placeholder is deprecated. Please use tf.compat.v1.placeholder instead.\n",
            "\n",
            "W0724 12:11:43.270066 140486089746304 deprecation_wrapper.py:119] From /usr/local/lib/python3.6/dist-packages/keras/backend/tensorflow_backend.py:4138: The name tf.random_uniform is deprecated. Please use tf.random.uniform instead.\n",
            "\n",
            "W0724 12:11:43.333410 140486089746304 deprecation_wrapper.py:119] From /usr/local/lib/python3.6/dist-packages/keras/backend/tensorflow_backend.py:174: The name tf.get_default_session is deprecated. Please use tf.compat.v1.get_default_session instead.\n",
            "\n",
            "W0724 12:11:43.335178 140486089746304 deprecation_wrapper.py:119] From /usr/local/lib/python3.6/dist-packages/keras/backend/tensorflow_backend.py:181: The name tf.ConfigProto is deprecated. Please use tf.compat.v1.ConfigProto instead.\n",
            "\n",
            "W0724 12:11:43.655911 140486089746304 deprecation_wrapper.py:119] From /usr/local/lib/python3.6/dist-packages/keras/backend/tensorflow_backend.py:1834: The name tf.nn.fused_batch_norm is deprecated. Please use tf.compat.v1.nn.fused_batch_norm instead.\n",
            "\n",
            "W0724 12:11:44.039791 140486089746304 deprecation_wrapper.py:119] From /usr/local/lib/python3.6/dist-packages/keras/backend/tensorflow_backend.py:3976: The name tf.nn.max_pool is deprecated. Please use tf.nn.max_pool2d instead.\n",
            "\n",
            "W0724 12:11:44.745827 140486089746304 deprecation_wrapper.py:119] From /usr/local/lib/python3.6/dist-packages/keras/backend/tensorflow_backend.py:3980: The name tf.nn.avg_pool is deprecated. Please use tf.nn.avg_pool2d instead.\n",
            "\n"
          ],
          "name": "stderr"
        },
        {
          "output_type": "stream",
          "text": [
            "Downloading data from https://github.com/fchollet/deep-learning-models/releases/download/v0.7/inception_resnet_v2_weights_tf_dim_ordering_tf_kernels_notop.h5\n",
            "219062272/219055592 [==============================] - 2s 0us/step\n"
          ],
          "name": "stdout"
        }
      ]
    },
    {
      "cell_type": "code",
      "metadata": {
        "id": "friWZeFEmyqV",
        "colab_type": "code",
        "colab": {
          "base_uri": "https://localhost:8080/",
          "height": 34
        },
        "outputId": "069da9d1-ed93-4222-ff99-3cc59fa199e1"
      },
      "source": [
        "# We will cap each input sequence to 100 tokens\n",
        "max_caption_len = 100\n",
        "# Initialize the function that will create our vocabulary \n",
        "tokenizer = Tokenizer(filters='', split=\" \", lower=False)\n",
        "\n",
        "# Read a document and return a string\n",
        "def load_doc(filename):\n",
        "    file = open(filename, 'r')\n",
        "    text = file.read()\n",
        "    file.close()\n",
        "    return text\n",
        "\n",
        "# Load all the HTML files\n",
        "X = []\n",
        "all_filenames = listdir('/content/gdrive/My Drive/hackathon2019/html/')\n",
        "all_filenames.sort()\n",
        "print(all_filenames)\n",
        "for filename in all_filenames:\n",
        "    X.append(load_doc('/content/gdrive/My Drive/hackathon2019/html/'+filename))\n",
        "\n",
        "# Create the vocabulary from the html files\n",
        "tokenizer.fit_on_texts(X)\n",
        "\n",
        "# Add +1 to leave space for empty words\n",
        "vocab_size = len(tokenizer.word_index) + 1\n",
        "# Translate each word in text file to the matching vocabulary index\n",
        "sequences = tokenizer.texts_to_sequences(X)\n",
        "# The longest HTML file\n",
        "max_length = max(len(s) for s in sequences)\n",
        "\n",
        "# Intialize our final input to the model\n",
        "X, y, image_data = list(), list(), list()\n",
        "for img_no, seq in enumerate(sequences):\n",
        "    for i in range(1, len(seq)):\n",
        "        # Add the entire sequence to the input and only keep the next word for the output\n",
        "        in_seq, out_seq = seq[:i], seq[i]\n",
        "        # If the sentence is shorter than max_length, fill it up with empty words\n",
        "        in_seq = pad_sequences([in_seq], maxlen=max_length)[0]\n",
        "        # Map the output to one-hot encoding\n",
        "        out_seq = to_categorical([out_seq], num_classes=vocab_size)[0]\n",
        "        # Add and image corresponding to the HTML file\n",
        "        image_data.append(features[img_no])\n",
        "        # Cut the input sentence to 100 tokens, and add it to the input data\n",
        "        X.append(in_seq[-100:])\n",
        "        y.append(out_seq)\n",
        "\n",
        "X, y, image_data = np.array(X), np.array(y), np.array(image_data)"
      ],
      "execution_count": 16,
      "outputs": [
        {
          "output_type": "stream",
          "text": [
            "['86.html', '87.html', '88.html', '89.html', '90.html']\n"
          ],
          "name": "stdout"
        }
      ]
    },
    {
      "cell_type": "code",
      "metadata": {
        "id": "BswvBi_Mm0QF",
        "colab_type": "code",
        "colab": {}
      },
      "source": [
        "# Create the encoder\n",
        "image_features = Input(shape=(8, 8, 1536,))\n",
        "image_flat = Flatten()(image_features)\n",
        "image_flat = Dense(128, activation='relu')(image_flat)\n",
        "ir2_out = RepeatVector(max_caption_len)(image_flat)\n",
        "\n",
        "language_input = Input(shape=(max_caption_len,))\n",
        "language_model = Embedding(vocab_size, 200, input_length=max_caption_len)(language_input)\n",
        "language_model = LSTM(256, return_sequences=True)(language_model)\n",
        "language_model = LSTM(256, return_sequences=True)(language_model)\n",
        "language_model = TimeDistributed(Dense(128, activation='relu'))(language_model)\n",
        "\n",
        "# Create the decoder\n",
        "decoder = concatenate([ir2_out, language_model])\n",
        "#decoder = LSTM(512, return_sequences=False)(decoder)\n",
        "decoder = LSTM(512, return_sequences=True)(decoder)\n",
        "decoder = LSTM(512, return_sequences=False)(decoder)\n",
        "decoder_output = Dense(vocab_size, activation='softmax')(decoder)\n",
        "\n",
        "# Compile the model\n",
        "model = Model(inputs=[image_features, language_input], outputs=decoder_output)\n",
        "model.compile(loss='categorical_crossentropy', optimizer='rmsprop')\n"
      ],
      "execution_count": 0,
      "outputs": []
    },
    {
      "cell_type": "code",
      "metadata": {
        "id": "hNmcQ3Vfm2bN",
        "colab_type": "code",
        "colab": {
          "base_uri": "https://localhost:8080/",
          "height": 663
        },
        "outputId": "02048c28-1c5f-4cee-f21b-499124a57c46"
      },
      "source": [
        "# Train the neural network\n",
        "model.summary()\n",
        "model.fit([image_data, X], y, batch_size=64, shuffle=False, epochs=2)"
      ],
      "execution_count": 0,
      "outputs": [
        {
          "output_type": "stream",
          "text": [
            "__________________________________________________________________________________________________\n",
            "Layer (type)                    Output Shape         Param #     Connected to                     \n",
            "==================================================================================================\n",
            "input_5 (InputLayer)            (None, 100)          0                                            \n",
            "__________________________________________________________________________________________________\n",
            "input_4 (InputLayer)            (None, 8, 8, 1536)   0                                            \n",
            "__________________________________________________________________________________________________\n",
            "embedding_2 (Embedding)         (None, 100, 200)     87200       input_5[0][0]                    \n",
            "__________________________________________________________________________________________________\n",
            "flatten_2 (Flatten)             (None, 98304)        0           input_4[0][0]                    \n",
            "__________________________________________________________________________________________________\n",
            "lstm_4 (LSTM)                   (None, 100, 256)     467968      embedding_2[0][0]                \n",
            "__________________________________________________________________________________________________\n",
            "dense_4 (Dense)                 (None, 128)          12583040    flatten_2[0][0]                  \n",
            "__________________________________________________________________________________________________\n",
            "lstm_5 (LSTM)                   (None, 100, 256)     525312      lstm_4[0][0]                     \n",
            "__________________________________________________________________________________________________\n",
            "repeat_vector_2 (RepeatVector)  (None, 100, 128)     0           dense_4[0][0]                    \n",
            "__________________________________________________________________________________________________\n",
            "time_distributed_2 (TimeDistrib (None, 100, 128)     32896       lstm_5[0][0]                     \n",
            "__________________________________________________________________________________________________\n",
            "concatenate_2 (Concatenate)     (None, 100, 256)     0           repeat_vector_2[0][0]            \n",
            "                                                                 time_distributed_2[0][0]         \n",
            "__________________________________________________________________________________________________\n",
            "lstm_6 (LSTM)                   (None, 100, 512)     1574912     concatenate_2[0][0]              \n",
            "__________________________________________________________________________________________________\n",
            "lstm_7 (LSTM)                   (None, 512)          2099200     lstm_6[0][0]                     \n",
            "__________________________________________________________________________________________________\n",
            "dense_6 (Dense)                 (None, 436)          223668      lstm_7[0][0]                     \n",
            "==================================================================================================\n",
            "Total params: 17,594,196\n",
            "Trainable params: 17,594,196\n",
            "Non-trainable params: 0\n",
            "__________________________________________________________________________________________________\n",
            "Epoch 1/2\n",
            "2306/2306 [==============================] - 253s 110ms/step - loss: 6.1526\n",
            "Epoch 2/2\n",
            " 384/2306 [===>..........................] - ETA: 3:25 - loss: 5.8464"
          ],
          "name": "stdout"
        }
      ]
    },
    {
      "cell_type": "code",
      "metadata": {
        "id": "uDPmZYNMm6yN",
        "colab_type": "code",
        "colab": {}
      },
      "source": [
        "\n",
        "# map an integer to a word\n",
        "def word_for_id(integer, tokenizer):\n",
        "    for word, index in tokenizer.word_index.items():\n",
        "        if index == integer:\n",
        "            return word\n",
        "    return None\n",
        "\n"
      ],
      "execution_count": 0,
      "outputs": []
    },
    {
      "cell_type": "code",
      "metadata": {
        "id": "O6pja6Ghm8xN",
        "colab_type": "code",
        "colab": {}
      },
      "source": [
        "\n",
        "# generate a description for an image\n",
        "def generate_desc(model, tokenizer, photo, max_length):\n",
        "    # seed the generation process\n",
        "    in_text = 'START'\n",
        "    # iterate over the whole length of the sequence\n",
        "    for i in range(900):\n",
        "        # integer encode input sequence\n",
        "        sequence = tokenizer.texts_to_sequences([in_text])[0][-100:]\n",
        "        # pad input\n",
        "        sequence = pad_sequences([sequence], maxlen=max_length)\n",
        "        # predict next word\n",
        "        yhat = model.predict([photo,sequence], verbose=0)\n",
        "       # print(yhat)\n",
        "        # convert probability to integer\n",
        "        yhat = np.argmax(yhat)\n",
        "        # map integer to word\n",
        "        word = word_for_id(yhat, tokenizer)\n",
        "        #print(word)\n",
        "        # stop if we cannot map the word\n",
        "        if word is None:\n",
        "            break\n",
        "        # append as input for generating the next word\n",
        "        in_text += ' ' + word\n",
        "        # Print the prediction\n",
        "        print(' ' + word, end='')\n",
        "        # stop if we predict the end of the sequence\n",
        "        if word == 'END':\n",
        "            break\n",
        "    return\n"
      ],
      "execution_count": 0,
      "outputs": []
    },
    {
      "cell_type": "code",
      "metadata": {
        "id": "8wlbtSVXnAEv",
        "colab_type": "code",
        "colab": {}
      },
      "source": [
        "\n",
        "\n",
        "# Load and image, preprocess it for IR2, extract features and generate the HTML\n",
        "test_image = img_to_array(load_img('/content/gdrive/My Drive/hackathon2019/images/87.jpg', target_size=(299, 299)))\n",
        "print(test_image.shape)\n",
        "model.load_weights('/content/gdrive/My Drive/hackathon2019/org-weights-epoch-1000---loss-0.0000.hdf5')\n",
        "test_image = np.array(test_image, dtype=float)\n",
        "test_image = preprocess_input(test_image)\n",
        "test_features = IR2.predict(np.array([test_image]))\n",
        "generate_desc(model, tokenizer, np.array(test_features), 100)\n"
      ],
      "execution_count": 0,
      "outputs": []
    }
  ]
}